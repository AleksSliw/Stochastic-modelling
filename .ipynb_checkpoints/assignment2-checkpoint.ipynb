{
 "cells": [
  {
   "cell_type": "code",
   "execution_count": 1,
   "id": "176bc4a4",
   "metadata": {
    "scrolled": true
   },
   "outputs": [],
   "source": [
    "import numpy as np\n",
    "import matplotlib.pyplot as plt\n",
    "import simpy\n",
    "import random"
   ]
  },
  {
   "cell_type": "code",
   "execution_count": 2,
   "id": "42898c22",
   "metadata": {},
   "outputs": [
    {
     "name": "stdout",
     "output_type": "stream",
     "text": [
      "Collecting simpy\n",
      "  Obtaining dependency information for simpy from https://files.pythonhosted.org/packages/48/72/920ed1224c94a8a5a69e6c1275ac7fe4eb911ba8feffddf469f1629d47f3/simpy-4.1.1-py3-none-any.whl.metadata\n",
      "  Downloading simpy-4.1.1-py3-none-any.whl.metadata (6.1 kB)\n",
      "Downloading simpy-4.1.1-py3-none-any.whl (27 kB)\n",
      "Installing collected packages: simpy\n",
      "Successfully installed simpy-4.1.1\n",
      "Note: you may need to restart the kernel to use updated packages.\n"
     ]
    }
   ],
   "source": [
    "pip install simpy"
   ]
  },
  {
   "cell_type": "markdown",
   "id": "f2b7d15e",
   "metadata": {},
   "source": [
    "## Part 2: Testing average waiting times"
   ]
  },
  {
   "cell_type": "markdown",
   "id": "db50b2d6",
   "metadata": {},
   "source": [
    "### Defining simpy processes"
   ]
  },
  {
   "cell_type": "code",
   "execution_count": 15,
   "id": "3b6844ea",
   "metadata": {},
   "outputs": [],
   "source": [
    "class Logger():\n",
    "    \"\"\"Keeps track of waiting times\"\"\"\n",
    "    def __init__(self, env):\n",
    "        self.env = env\n",
    "        self.waiting_times = []\n",
    "\n",
    "    def log_waiting_time(self, waiting_time):\n",
    "        self.waiting_times.append(waiting_time)\n",
    "\n",
    "\n",
    "def customer_generator(env, landa, mu, n_samples, logger):\n",
    "    \"\"\"Generates customers\"\"\"\n",
    "    for k in range(n_samples):\n",
    "        c = customer(env, f'Customer {k}', mu, logger)\n",
    "        env.process(c)\n",
    "        t = random.expovariate(landa) #Average inter_arrival_time\n",
    "        yield env.timeout(t)\n",
    "\n",
    "        \n",
    "def customer(env, name, mu, logger):\n",
    "    \"Simulates queue behaviour and logs waiting times\"\n",
    "    arrival = env.now\n",
    "#     print('yes')\n",
    "    with counter.request() as req:\n",
    "        yield req\n",
    "        #Saving the time we waited \n",
    "        served = env.now\n",
    "        waiting_time  = served - arrival\n",
    "#         print(waiting_time)\n",
    "        logger.log_waiting_time(waiting_time)\n",
    "        #Getting served for X amount of time\n",
    "        serving_time = random.expovariate(mu)\n",
    "        yield env.timeout(serving_time)\n",
    "        \n",
    "        \n",
    "def multiple_n_runs(landa, mu, ns, n_samples):\n",
    "    '''Function that runs simulation for different server number n'''\n",
    "    seed = random.randint(0, 2**32 - 1)\n",
    "    random.seed(seed)\n",
    "    time_logs = []\n",
    "    for n in ns:\n",
    "        env = simpy.Environment()\n",
    "        counter = simpy.Resource(env, capacity=1)\n",
    "        time_logger = Logger(env)\n",
    "        proc = env.process(customer_generator(env, landa, mu, n_samples, time_logger))\n",
    "        env.run(until=proc)\n",
    "        time_logs.append(time_logger)\n",
    "    return time_logs\n"
   ]
  },
  {
   "cell_type": "code",
   "execution_count": 16,
   "id": "491b1944",
   "metadata": {},
   "outputs": [
    {
     "name": "stdout",
     "output_type": "stream",
     "text": [
      "Utilization p = 0.9333333333333335\n"
     ]
    }
   ],
   "source": [
    "ns = [1,2,4]\n",
    "landa = 0.56\n",
    "mu= 0.6\n",
    "n_samples = 10**5\n",
    "p = landa/(1*mu)\n",
    "lst = []\n",
    "\n",
    "print(f'Utilization p = {p}')\n",
    "for n in ns:\n",
    "    env = simpy.Environment()\n",
    "    counter = simpy.Resource(env, capacity=n)\n",
    "    time_logger = Logger(env)\n",
    "    proc = env.process(customer_generator(env, landa, mu, n_samples, time_logger))\n",
    "    env.run(until=proc)\n",
    "    lst.append(time_logger)\n",
    "\n",
    "times = [logger.waiting_times for logger in waiting_times]"
   ]
  },
  {
   "cell_type": "code",
   "execution_count": 17,
   "id": "843f9e47",
   "metadata": {},
   "outputs": [
    {
     "data": {
      "image/png": "[encoded data removed]",
      "text/plain": [
       "<Figure size 1500x400 with 3 Axes>"
      ]
     },
     "metadata": {},
     "output_type": "display_data"
    }
   ],
   "source": [
    "# Creating a figure with three subplots\n",
    "fig, axs = plt.subplots(1, 3, figsize=(15, 4))\n",
    "\n",
    "# Plotting each histogram in a separate subplot\n",
    "for indx, t in enumerate(times):\n",
    "    axs[indx].hist(t, density = False, bins = 30, color= 'b')\n",
    "    axs[indx].set_title(f\"n={ns[indx]}\")\n",
    "    axs[indx].set_xlabel('Waiting time')\n",
    "    axs[indx].set_ylabel('Frequency')\n",
    "\n",
    "# Adjusting layout\n",
    "plt.tight_layout()\n",
    "\n",
    "# Display the subplots\n",
    "plt.show()"
   ]
  },
  {
   "cell_type": "code",
   "execution_count": 18,
   "id": "1c3eae56",
   "metadata": {},
   "outputs": [
    {
     "name": "stdout",
     "output_type": "stream",
     "text": [
      "who does the harder question? Aleks!\n"
     ]
    }
   ],
   "source": [
    "lst = ['Aleks', 'Kaya']\n",
    "print(f\"who does the harder question? {random.choice(lst)}!\")"
   ]
  },
  {
   "cell_type": "code",
   "execution_count": null,
   "id": "4cd1cf38",
   "metadata": {},
   "outputs": [],
   "source": []
  }
 ],
 "metadata": {
  "kernelspec": {
   "display_name": "Python 3 (ipykernel)",
   "language": "python",
   "name": "python3"
  },
  "language_info": {
   "codemirror_mode": {
    "name": "ipython",
    "version": 3
   },
   "file_extension": ".py",
   "mimetype": "text/x-python",
   "name": "python",
   "nbconvert_exporter": "python",
   "pygments_lexer": "ipython3",
   "version": "3.11.4"
  }
 },
 "nbformat": 4,
 "nbformat_minor": 5
}
